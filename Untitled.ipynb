{
 "cells": [
  {
   "cell_type": "code",
   "execution_count": 2,
   "id": "9b83ca6c",
   "metadata": {},
   "outputs": [
    {
     "name": "stdout",
     "output_type": "stream",
     "text": [
      "Dataset generated successfully!\n"
     ]
    }
   ],
   "source": [
    "import csv\n",
    "import random\n",
    "from faker import Faker\n",
    "\n",
    "print(fake.name())\n",
    "\n",
    "fake = Faker()\n",
    "\n",
    "# Function to generate random gender\n",
    "def generate_gender():\n",
    "    return random.choice(['Male', 'Female'])\n",
    "\n",
    "# Function to generate random age between 18 and 60\n",
    "def generate_age():\n",
    "    return random.randint(18, 60)\n",
    "\n",
    "# Generate dataset\n",
    "data = []\n",
    "for i in range(500):\n",
    "    customer_id = i + 1\n",
    "    customer_name = fake.name()\n",
    "    customer_age = generate_age()\n",
    "    customer_gender = generate_gender()\n",
    "\n",
    "    delivery_person_id = customer_id + 1000\n",
    "    delivery_person_name = fake.name()\n",
    "    delivery_person_age = generate_age()\n",
    "    delivery_person_gender = generate_gender()\n",
    "\n",
    "    restaurant_name = fake.company()\n",
    "    city = fake.city()\n",
    "    state = fake.state()\n",
    "\n",
    "    food_item_name = fake.word().capitalize()\n",
    "    category = random.choice(['Italian', 'Japanese', 'Indian', 'Mexican', 'Vietnamese', 'American', 'Thai'])\n",
    "\n",
    "    order_id = f\"ORD{i+1:03}\"\n",
    "    quantity = random.randint(1, 5)\n",
    "    unit_price = round(random.uniform(5, 20), 2)\n",
    "    delivery_fees = round(random.uniform(2, 7), 2)\n",
    "    total_price = round(quantity * unit_price + delivery_fees, 2)\n",
    "    order_time = fake.date_time_this_year()\n",
    "\n",
    "    data.append([customer_id, customer_name, customer_age, customer_gender,\n",
    "                 delivery_person_id, delivery_person_name, delivery_person_age, delivery_person_gender,\n",
    "                 restaurant_name, city, state,\n",
    "                 food_item_name, category,\n",
    "                 order_id, quantity, unit_price, delivery_fees, total_price, order_time])\n",
    "\n",
    "# Write data to CSV file\n",
    "with open('dataset.csv', 'w', newline='') as file:\n",
    "    writer = csv.writer(file)\n",
    "    writer.writerow([\"Customer ID\", \"Name\", \"Age\", \"Gender\",\n",
    "                     \"Delivery Person ID\", \"Delivery Person Name\", \"Delivery Person Age\", \"Delivery Person Gender\",\n",
    "                     \"Restaurant Name\", \"City\", \"State\",\n",
    "                     \"Food Item Name\", \"Category\",\n",
    "                     \"Order ID\", \"Quantity\", \"Unit Price\", \"Delivery Fees\", \"Total Price\", \"Order Time\"])\n",
    "    writer.writerows(data)\n",
    "\n",
    "print(\"Dataset generated successfully!\")\n"
   ]
  },
  {
   "cell_type": "code",
   "execution_count": null,
   "id": "5e1bda69",
   "metadata": {},
   "outputs": [],
   "source": []
  }
 ],
 "metadata": {
  "kernelspec": {
   "display_name": "Python 3 (ipykernel)",
   "language": "python",
   "name": "python3"
  },
  "language_info": {
   "codemirror_mode": {
    "name": "ipython",
    "version": 3
   },
   "file_extension": ".py",
   "mimetype": "text/x-python",
   "name": "python",
   "nbconvert_exporter": "python",
   "pygments_lexer": "ipython3",
   "version": "3.9.13"
  }
 },
 "nbformat": 4,
 "nbformat_minor": 5
}
